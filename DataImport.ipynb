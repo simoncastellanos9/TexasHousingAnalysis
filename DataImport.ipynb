{
 "cells": [
  {
   "cell_type": "code",
   "execution_count": 1,
   "metadata": {},
   "outputs": [],
   "source": [
    "import json\n",
    "import requests\n",
    "from config import fed_api_key\n",
    "from pprint import pprint\n",
    "import pandas as pd\n",
    "import numpy as np"
   ]
  },
  {
   "cell_type": "code",
   "execution_count": 2,
   "metadata": {},
   "outputs": [],
   "source": [
    "commodities_dict= {'lumber':'WPU081','cement':'PCU32733273','steel':'WPU101','stone':'WPS1321','brick':'PCU32733132733106'}"
   ]
  },
  {
   "cell_type": "code",
   "execution_count": 3,
   "metadata": {},
   "outputs": [],
   "source": [
    "#'https://api.stlouisfed.org/fred/series/observations?series_id=WPU0811&api_key=0a60bfbafed5ab7080d559305d53573a&file_type=json'\n",
    "base_url='https://api.stlouisfed.org/fred/series/observations?series_id='\n",
    "mid_url = '&api_key='\n",
    "end_url='&file_type=json'\n",
    "urls =[]\n",
    "dummies = []"
   ]
  },
  {
   "cell_type": "code",
   "execution_count": null,
   "metadata": {},
   "outputs": [],
   "source": [
    "commodity_name=[]\n",
    "dates = []\n",
    "values = []\n",
    "\n",
    "for key,value in commodities_dict.items():\n",
    "    url = base_url + value + mid_url + fed_api_key + end_url\n",
    "    response = requests.get(url)\n",
    "    data_json = response.json()\n",
    "    for data in data_json['observations']:\n",
    "         dates.append(data['date'])\n",
    "         values.append(data['value'])\n",
    "         commodity_name.append(key)\n",
    "df = pd.DataFrame({\n",
    "     \"Commodity\": commodity_name,\n",
    "     \"date\": dates,\n",
    "     \"values\": values\n",
    "})\n",
    "df.to_csv('Resources/ConstructionCommodities.csv')"
   ]
  },
  {
   "cell_type": "code",
   "execution_count": null,
   "metadata": {},
   "outputs": [],
   "source": [
    "file = \"Resources/ZilloHomeValueIndexZip.csv\"\n",
    "zhvi_df = pd.read_csv(file)\n",
    "zhvi_df = zhvi_df[zhvi_df['State']=='TX']\n",
    "zhvi_df['Country'] = 'US'\n",
    "zhvi_df"
   ]
  },
  {
   "cell_type": "code",
   "execution_count": null,
   "metadata": {},
   "outputs": [],
   "source": [
    "zhvi_df = zhvi_df.drop(columns=['SizeRank','RegionID','RegionType','StateName'])\n",
    "zhvi2_df = pd.melt(zhvi_df,id_vars=['Country','RegionName','Metro','City','State','CountyName'],var_name='MeasureDate', value_name='MedianPrice')\n",
    "zhvi2_df = zhvi2_df.rename(columns={\"State\": \"UsState\"})\n",
    "zhvi2_df = zhvi2_df.rename(columns={\"RegionName\": \"Zipcode\"})\n",
    "zhvi2_df"
   ]
  },
  {
   "cell_type": "code",
   "execution_count": 7,
   "metadata": {},
   "outputs": [],
   "source": [
    "zhvi2_df.to_csv('Resources/zhvi_zip.csv')"
   ]
  },
  {
   "cell_type": "code",
   "execution_count": null,
   "metadata": {},
   "outputs": [],
   "source": []
  }
 ],
 "metadata": {
  "kernelspec": {
   "display_name": "Python [conda env:root] *",
   "language": "python",
   "name": "conda-root-py"
  },
  "language_info": {
   "codemirror_mode": {
    "name": "ipython",
    "version": 3
   },
   "file_extension": ".py",
   "mimetype": "text/x-python",
   "name": "python",
   "nbconvert_exporter": "python",
   "pygments_lexer": "ipython3",
   "version": "3.8.5"
  }
 },
 "nbformat": 4,
 "nbformat_minor": 4
}
